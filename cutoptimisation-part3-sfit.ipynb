{
 "cells": [
  {
   "cell_type": "markdown",
   "metadata": {},
   "source": [
    "Before starting, let's import some RooFit stuff."
   ]
  },
  {
   "cell_type": "code",
   "execution_count": 1,
   "metadata": {
    "collapsed": false
   },
   "outputs": [
    {
     "data": {
      "application/javascript": [
       "IPython.CodeCell.config_defaults.highlight_modes['magic_text/x-c++src'] = {'reg':[/^%%cpp/]};"
      ]
     },
     "metadata": {},
     "output_type": "display_data"
    },
    {
     "name": "stdout",
     "output_type": "stream",
     "text": [
      "Welcome to JupyROOT 6.07/03\n"
     ]
    }
   ],
   "source": [
    "from ROOT import RooGaussian\n",
    "from ROOT import RooExponential\n",
    "from ROOT import RooProdPdf\n",
    "from ROOT import RooExtendPdf\n",
    "from ROOT import RooFit\n",
    "from ROOT import RooRealVar\n",
    "from ROOT import RooAddPdf\n",
    "from ROOT import RooArgList\n",
    "from ROOT import RooArgSet\n",
    "import ROOT\n",
    "ROOT.SetMemoryPolicy(ROOT.kMemoryStrict)\n",
    "import ROOT\n",
    "\n",
    "def destruct_object(object_):\n",
    "    \"\"\"Destruct an object inheriting from TObject.\n",
    "\n",
    "    See http://root.cern.ch/download/doc/ROOTUsersGuideHTML/ch19.html#d5e27551\n",
    "    for more details\n",
    "\n",
    "    provided by @apuignav\n",
    "\n",
    "    :param object_: object to delete\n",
    "    :type object_: TObject\n",
    "\n",
    "    \"\"\"\n",
    "    if issubclass(type(object_), ROOT.TObject):\n",
    "        object_.IsA().Destructor(object_)"
   ]
  },
  {
   "cell_type": "markdown",
   "metadata": {},
   "source": [
    "Now the variables and models are defined. A Gaussian in invariant mass for the signal, an exponential for background; a BDT which is flat between 0 and 1 for the signal, and falls off exponentially for the background."
   ]
  },
  {
   "cell_type": "code",
   "execution_count": 2,
   "metadata": {
    "collapsed": false
   },
   "outputs": [],
   "source": [
    "bdt      = RooRealVar(\"BDT\",\"some awesome BDT\",0.,1.)\n",
    "mass     = RooRealVar(\"mass\",\"invariant mass\",5100.,5300,\"MeV/c^{2}\")\n",
    "time     = RooRealVar(\"time\",\"decay time\",0.,10,\"ps\")\n",
    "sy_start = 100.\n",
    "by_start = 900.\n",
    "sy_min = 0.\n",
    "by_min = 0.\n",
    "sy_max = 100000.\n",
    "by_max = 100000.\n",
    "\n",
    "time_central = -1./1.519\n",
    "time_min     = -1./0.200\n",
    "time_max     = -1./9.200\n",
    "\n",
    "sigyield = RooRealVar(\"sigyield\",\"signal yield\",sy_start,sy_min,sy_max)\n",
    "bkgyield = RooRealVar(\"bkgyield\",\"background yield\",by_start,by_min,by_max)\n",
    "\n",
    "blifetime= RooRealVar(\"blifetime\",\"B meson lifetime\",time_central,time_min,time_max)\n",
    "\n",
    "\n",
    "bmassPDF = RooGaussian(\"bmass\",\"B mass shape\",mass,RooFit.RooConst(5200.),RooFit.RooConst(20.))\n",
    "btimePDF = RooExponential(\"btime\",\"B time shape\",time,blifetime)\n",
    "bkgmPDF  = RooExponential(\"bkgmass\",\"bkg mass shape\",mass,RooFit.RooConst(-1./200.))\n",
    "bkgtPDF  = RooExponential(\"bbktime\",\"bkg time shape\",time,RooFit.RooConst(-1./0.200))\n",
    "bdtsPDF  = RooExponential(\"bdts\",\"sig bdt shape\",bdt,RooFit.RooConst(0.))\n",
    "bdtbPDF  = RooExponential(\"bdtb\",\"bkg bdt shape\",bdt,RooFit.RooConst(-3.))\n",
    "sigfitpdf= RooProdPdf(\"sigfitpdf\",\"signal fit pdf\",bmassPDF,btimePDF)\n",
    "bkgfitpdf= RooProdPdf(\"bkgfitpdf\",\"background fit pdf\",bkgmPDF,bkgtPDF)\n",
    "Esigfitpdf=RooExtendPdf(\"Esigfitpdf\",\"extended signal fit pdf\",sigfitpdf,sigyield)\n",
    "Ebkgfitpdf=RooExtendPdf(\"Ebkgfitpdf\",\"extended background fit pdf\",bkgfitpdf,bkgyield)\n",
    "fitPDF   = RooAddPdf(\"fitpdf\",\"mass and time pdf\",RooArgList(Esigfitpdf,Ebkgfitpdf))\n",
    "sigPDF   = RooProdPdf(\"sigpdf\",\"signal pdf\",RooArgList(bmassPDF,bdtsPDF,btimePDF))\n",
    "bkgPDF   = RooProdPdf(\"bkgpdf\",\"background pdf\",RooArgList(bkgmPDF,bdtbPDF,bkgtPDF))\n",
    "EsigPDF  = RooExtendPdf(\"Esigpdf\",\"extended signal pdf\",sigPDF,sigyield)\n",
    "EbkgPDF  = RooExtendPdf(\"Ebkgpdf\",\"extended background pdf\",bkgPDF,bkgyield)\n",
    "combPDF  = RooAddPdf(\"fullpdf\",\"full pdf\",RooArgList(EsigPDF,EbkgPDF))\n",
    "EmsigPDF = RooExtendPdf(\"Emsigpdf\",\"extended signal mass pdf\",bmassPDF,sigyield)\n",
    "EmbkgPDF = RooExtendPdf(\"Embkgpdf\",\"extended background mass pdf\",bkgmPDF,bkgyield)\n",
    "combmPDF = RooAddPdf(\"fullmasspdf\",\"full mass pdf\",RooArgList(EmsigPDF,EmbkgPDF))"
   ]
  },
  {
   "cell_type": "markdown",
   "metadata": {},
   "source": [
    "Lets look at a small toy where a cut on the BDT cleans up the invariant mass spectrum."
   ]
  },
  {
   "cell_type": "code",
   "execution_count": 3,
   "metadata": {
    "collapsed": false
   },
   "outputs": [
    {
     "name": "stdout",
     "output_type": "stream",
     "text": [
      "[#1] INFO:Plotting -- RooPlot::updateFitRangeNorm: New event count of 2129 will supercede previous event count of 10000 for normalization of PDF projections\r\n"
     ]
    },
    {
     "data": {
      "image/png": "[encoded data removed]",
      "text/plain": [
       "<IPython.core.display.Image object>"
      ]
     },
     "metadata": {},
     "output_type": "display_data"
    }
   ],
   "source": [
    "SIMEVTS = 10000#0\n",
    "NTOYS = 1000\n",
    "truesigyield = SIMEVTS*(sigyield.getVal()/(sigyield.getVal()+bkgyield.getVal()))\n",
    "def gentoy():\n",
    "    toydata = combPDF.generate(RooArgSet(bdt,mass,time),SIMEVTS)\n",
    "    return toydata\n",
    "toydata = gentoy()\n",
    "from ROOT import TCanvas, RooCmdArg\n",
    "from ROOT.RooFit import Cut\n",
    "c = TCanvas()\n",
    "frame = time.frame()\n",
    "toydata.plotOn(frame)\n",
    "smalldata = toydata.reduce(Cut(\"BDT>0.5\"))\n",
    "smalldata.plotOn(frame)#,Cut(\"BDT>0.5\"))\n",
    "frame.Draw()\n",
    "c.SetLogy()\n",
    "c.Draw()\n",
    "destruct_object(toydata)\n",
    "destruct_object(smalldata)"
   ]
  },
  {
   "cell_type": "markdown",
   "metadata": {},
   "source": [
    "For automisation, a few helper functions: resetting fit parameters, fitting the toy data (with possible cut on the BDT - the efficiency for the signal as function of cut value is perfectly known, as well as the true signal expected yield), determination of pull in yield and bias.\n",
    "\n",
    "For each toy, a scan over BDT cut values is performed (in steps of 0.1) to pick the best cut value (this is the one with the smallest uncertainty on the signal yield before cut)."
   ]
  },
  {
   "cell_type": "code",
   "execution_count": 4,
   "metadata": {
    "collapsed": false
   },
   "outputs": [],
   "source": [
    "from ROOT import RooMsgService\n",
    "RooMsgService.instance().setGlobalKillBelow(RooFit.WARNING)\n",
    "def reset():\n",
    "    bkgyield.setMin(by_min)\n",
    "    bkgyield.setMin(by_min)\n",
    "    bkgyield.setMax(by_max)\n",
    "    bkgyield.setMax(by_max)\n",
    "    bkgyield.setVal(by_start)\n",
    "    sigyield.setMin(sy_min)\n",
    "    sigyield.setMin(sy_min)\n",
    "    sigyield.setMax(sy_max)\n",
    "    sigyield.setMax(sy_max)\n",
    "    sigyield.setVal(sy_start)\n",
    "    blifetime.setVal(time_central)\n",
    "    blifetime.setMin(time_min)\n",
    "    blifetime.setMax(time_max)\n",
    "\n",
    "to_be_deleted = []\n",
    "\n",
    "def fitwithcut(dataset,cutvalue):\n",
    "    global to_be_deleted\n",
    "    #print \"full fit\"\n",
    "    reset()\n",
    "    smalldata = dataset.reduce(Cut(\"BDT>\"+str(cutvalue)))\n",
    "    #smalldata.Print(\"V\")\n",
    "    #print \"fit mass\"\n",
    "    combmPDF.fitTo(smalldata,RooFit.Save(False),RooFit.NumCPU(2),RooFit.PrintLevel(-1000))\n",
    "    from ROOT.RooStats import SPlot\n",
    "    #print \"call splot\"\n",
    "    splot = SPlot(\"splot\",\"splot\",smalldata,combmPDF,RooArgList(sigyield,bkgyield),RooArgSet(),True,True)\n",
    "    from ROOT import RooDataSet\n",
    "    #print \"do dataset stuff\"\n",
    "    sdata = RooDataSet(\"newdata\",\"newdata\",smalldata,smalldata.get(),\"\",\"sigyield_sw\")\n",
    "    #print \"do sfit\"\n",
    "    btimePDF.fitTo(sdata,RooFit.Save(False),RooFit.NumCPU(2),RooFit.PrintLevel(-1000),RooFit.SumW2Error(True))\n",
    "    #to_be_deleted.append(smalldata)\n",
    "    #to_be_deleted.append(sdata)\n",
    "    \n",
    "    val, err = sigyield.getVal(),sigyield.getError()\n",
    "    tval, terr = blifetime.getVal(),blifetime.getError()\n",
    "    sy = val/(1.-cutvalue)\n",
    "    se = err/(1.-cutvalue)\n",
    "    return sy,se,tval,terr\n",
    "\n",
    "def fitonlymasswithcut(dataset,cutvalue):\n",
    "    #print \"fit mass\"\n",
    "    reset()\n",
    "    smalldata = dataset.reduce(Cut(\"BDT>\"+str(cutvalue)))\n",
    "    #print \"fit mass\"\n",
    "    fitres = combmPDF.fitTo(smalldata,RooFit.Save(False),RooFit.NumCPU(2),RooFit.PrintLevel(-1000))\n",
    "    #fitres.Print(\"V\")\n",
    "    destruct_object(smalldata)\n",
    "    val, err = sigyield.getVal(),sigyield.getError()\n",
    "    sy = val/(1.-cutvalue)\n",
    "    se = err/(1.-cutvalue)\n",
    "    return sy,se\n",
    "                            \n",
    "\n",
    "def runtoy():\n",
    "    #print \"run toy\"\n",
    "    reset()\n",
    "    toydata = gentoy()\n",
    "    RooMsgService.instance().setGlobalKillBelow(RooFit.ERROR)\n",
    "    cutval = 0.0\n",
    "    sy,se,tc,te = fitwithcut(toydata,cutval)\n",
    "    \n",
    "    res = sy-truesigyield\n",
    "    pull = res/se\n",
    "    \n",
    "    cutval = 0.5\n",
    "    sy2,se2,tc2,te2 = fitwithcut(toydata,cutval)\n",
    "    res2 = sy2-truesigyield\n",
    "    pull2 = res2/se2\n",
    "    \n",
    "    bestcut = 0.0\n",
    "    bestrel = 1.0\n",
    "    for tv in [0.0,0.1,0.2,0.3,0.4,0.5,0.6,0.7,0.8,0.9]:\n",
    "        y,e = fitonlymasswithcut(toydata,tv)\n",
    "        if e/y <= bestrel:\n",
    "            bestrel=e/y\n",
    "            bestrel=tv\n",
    "            by,be = y,e\n",
    "    delme,delmetoo,timebest,timeerror = fitwithcut(toydata,bestcut)\n",
    "    resbest = by-truesigyield\n",
    "    pullbest = resbest/be\n",
    "    for x in to_be_deleted:\n",
    "        destruct_object(x)\n",
    "    return res,pull,res2,pull2, resbest,pullbest,(tc,te,tc2,te2,timebest,timeerror)\n",
    "    "
   ]
  },
  {
   "cell_type": "markdown",
   "metadata": {},
   "source": [
    "Now, run many toys, record the pulls and residuals for \"no cut\", \"cut at 0.5\", and \"best cut\"."
   ]
  },
  {
   "cell_type": "code",
   "execution_count": 5,
   "metadata": {
    "collapsed": false,
    "scrolled": false
   },
   "outputs": [
    {
     "ename": "TypeError",
     "evalue": "none of the 5 overloaded methods succeeded. Full details:\n  RooDataSet* RooAbsPdf::generate(const RooArgSet& whatVars, const RooDataSet& prototype, int nEvents = 0, bool verbose = kFALSE, bool randProtoOrder = kFALSE, bool resampleProto = kFALSE) =>\n    could not convert argument 2\n  RooDataSet* RooAbsPdf::generate(const RooArgSet& whatVars, int nEvents, const RooCmdArg& arg1, const RooCmdArg& arg2 = RooCmdArg::none(), const RooCmdArg& arg3 = RooCmdArg::none(), const RooCmdArg& arg4 = RooCmdArg::none(), const RooCmdArg& arg5 = RooCmdArg::none()) =>\n    takes at least 3 arguments (2 given)\n  RooDataSet* RooAbsPdf::generate(const RooArgSet& whatVars, const RooCmdArg& arg1 = RooCmdArg::none(), const RooCmdArg& arg2 = RooCmdArg::none(), const RooCmdArg& arg3 = RooCmdArg::none(), const RooCmdArg& arg4 = RooCmdArg::none(), const RooCmdArg& arg5 = RooCmdArg::none(), const RooCmdArg& arg6 = RooCmdArg::none()) =>\n    could not convert argument 2\n  RooDataSet* RooAbsPdf::generate(RooAbsPdf::GenSpec&) =>\n    takes at most 1 arguments (2 given)\n  RooDataSet* RooAbsPdf::generate(const RooArgSet& whatVars, double nEvents = 0, bool verbose = kFALSE, bool autoBinned = kTRUE, const char* binnedTag = \"\", bool expectedData = kFALSE, bool extended = kFALSE) =>\n    problem in C++; program state has been reset",
     "output_type": "error",
     "traceback": [
      "\u001b[1;31m---------------------------------------------------------------------------\u001b[0m",
      "\u001b[1;31mTypeError\u001b[0m                                 Traceback (most recent call last)",
      "\u001b[1;32m<ipython-input-5-26c266599712>\u001b[0m in \u001b[0;36m<module>\u001b[1;34m()\u001b[0m\n\u001b[0;32m     19\u001b[0m     \u001b[0mRooRandom\u001b[0m\u001b[1;33m.\u001b[0m\u001b[0mrandomGenerator\u001b[0m\u001b[1;33m(\u001b[0m\u001b[1;33m)\u001b[0m\u001b[1;33m.\u001b[0m\u001b[0mSetSeed\u001b[0m\u001b[1;33m(\u001b[0m\u001b[0mi\u001b[0m\u001b[1;33m)\u001b[0m\u001b[1;33m\u001b[0m\u001b[0m\n\u001b[0;32m     20\u001b[0m     \u001b[1;31m#res,pull,timestuff = runtoy()\u001b[0m\u001b[1;33m\u001b[0m\u001b[1;33m\u001b[0m\u001b[0m\n\u001b[1;32m---> 21\u001b[1;33m     \u001b[0mres\u001b[0m\u001b[1;33m,\u001b[0m\u001b[0mpull\u001b[0m\u001b[1;33m,\u001b[0m\u001b[0mres2\u001b[0m\u001b[1;33m,\u001b[0m\u001b[0mpull2\u001b[0m\u001b[1;33m,\u001b[0m\u001b[0mresb\u001b[0m\u001b[1;33m,\u001b[0m\u001b[0mpullb\u001b[0m\u001b[1;33m,\u001b[0m\u001b[0mtimestuff\u001b[0m \u001b[1;33m=\u001b[0m \u001b[0mruntoy\u001b[0m\u001b[1;33m(\u001b[0m\u001b[1;33m)\u001b[0m\u001b[1;33m\u001b[0m\u001b[0m\n\u001b[0m\u001b[0;32m     22\u001b[0m     \u001b[0mpullhist\u001b[0m\u001b[1;33m.\u001b[0m\u001b[0mFill\u001b[0m\u001b[1;33m(\u001b[0m\u001b[0mpull\u001b[0m\u001b[1;33m)\u001b[0m\u001b[1;33m\u001b[0m\u001b[0m\n\u001b[0;32m     23\u001b[0m     \u001b[0mpull2hist\u001b[0m\u001b[1;33m.\u001b[0m\u001b[0mFill\u001b[0m\u001b[1;33m(\u001b[0m\u001b[0mpull2\u001b[0m\u001b[1;33m)\u001b[0m\u001b[1;33m\u001b[0m\u001b[0m\n",
      "\u001b[1;32m<ipython-input-4-23bfa0ac9e7d>\u001b[0m in \u001b[0;36mruntoy\u001b[1;34m()\u001b[0m\n\u001b[0;32m     60\u001b[0m     \u001b[1;31m#print \"run toy\"\u001b[0m\u001b[1;33m\u001b[0m\u001b[1;33m\u001b[0m\u001b[0m\n\u001b[0;32m     61\u001b[0m     \u001b[0mreset\u001b[0m\u001b[1;33m(\u001b[0m\u001b[1;33m)\u001b[0m\u001b[1;33m\u001b[0m\u001b[0m\n\u001b[1;32m---> 62\u001b[1;33m     \u001b[0mtoydata\u001b[0m \u001b[1;33m=\u001b[0m \u001b[0mgentoy\u001b[0m\u001b[1;33m(\u001b[0m\u001b[1;33m)\u001b[0m\u001b[1;33m\u001b[0m\u001b[0m\n\u001b[0m\u001b[0;32m     63\u001b[0m     \u001b[0mRooMsgService\u001b[0m\u001b[1;33m.\u001b[0m\u001b[0minstance\u001b[0m\u001b[1;33m(\u001b[0m\u001b[1;33m)\u001b[0m\u001b[1;33m.\u001b[0m\u001b[0msetGlobalKillBelow\u001b[0m\u001b[1;33m(\u001b[0m\u001b[0mRooFit\u001b[0m\u001b[1;33m.\u001b[0m\u001b[0mERROR\u001b[0m\u001b[1;33m)\u001b[0m\u001b[1;33m\u001b[0m\u001b[0m\n\u001b[0;32m     64\u001b[0m     \u001b[0mcutval\u001b[0m \u001b[1;33m=\u001b[0m \u001b[1;36m0.0\u001b[0m\u001b[1;33m\u001b[0m\u001b[0m\n",
      "\u001b[1;32m<ipython-input-3-7bd643ed3c8a>\u001b[0m in \u001b[0;36mgentoy\u001b[1;34m()\u001b[0m\n\u001b[0;32m      3\u001b[0m \u001b[0mtruesigyield\u001b[0m \u001b[1;33m=\u001b[0m \u001b[0mSIMEVTS\u001b[0m\u001b[1;33m*\u001b[0m\u001b[1;33m(\u001b[0m\u001b[0msigyield\u001b[0m\u001b[1;33m.\u001b[0m\u001b[0mgetVal\u001b[0m\u001b[1;33m(\u001b[0m\u001b[1;33m)\u001b[0m\u001b[1;33m/\u001b[0m\u001b[1;33m(\u001b[0m\u001b[0msigyield\u001b[0m\u001b[1;33m.\u001b[0m\u001b[0mgetVal\u001b[0m\u001b[1;33m(\u001b[0m\u001b[1;33m)\u001b[0m\u001b[1;33m+\u001b[0m\u001b[0mbkgyield\u001b[0m\u001b[1;33m.\u001b[0m\u001b[0mgetVal\u001b[0m\u001b[1;33m(\u001b[0m\u001b[1;33m)\u001b[0m\u001b[1;33m)\u001b[0m\u001b[1;33m)\u001b[0m\u001b[1;33m\u001b[0m\u001b[0m\n\u001b[0;32m      4\u001b[0m \u001b[1;32mdef\u001b[0m \u001b[0mgentoy\u001b[0m\u001b[1;33m(\u001b[0m\u001b[1;33m)\u001b[0m\u001b[1;33m:\u001b[0m\u001b[1;33m\u001b[0m\u001b[0m\n\u001b[1;32m----> 5\u001b[1;33m     \u001b[0mtoydata\u001b[0m \u001b[1;33m=\u001b[0m \u001b[0mcombPDF\u001b[0m\u001b[1;33m.\u001b[0m\u001b[0mgenerate\u001b[0m\u001b[1;33m(\u001b[0m\u001b[0mRooArgSet\u001b[0m\u001b[1;33m(\u001b[0m\u001b[0mbdt\u001b[0m\u001b[1;33m,\u001b[0m\u001b[0mmass\u001b[0m\u001b[1;33m,\u001b[0m\u001b[0mtime\u001b[0m\u001b[1;33m)\u001b[0m\u001b[1;33m,\u001b[0m\u001b[0mSIMEVTS\u001b[0m\u001b[1;33m)\u001b[0m\u001b[1;33m\u001b[0m\u001b[0m\n\u001b[0m\u001b[0;32m      6\u001b[0m     \u001b[1;32mreturn\u001b[0m \u001b[0mtoydata\u001b[0m\u001b[1;33m\u001b[0m\u001b[0m\n\u001b[0;32m      7\u001b[0m \u001b[0mtoydata\u001b[0m \u001b[1;33m=\u001b[0m \u001b[0mgentoy\u001b[0m\u001b[1;33m(\u001b[0m\u001b[1;33m)\u001b[0m\u001b[1;33m\u001b[0m\u001b[0m\n",
      "\u001b[1;31mTypeError\u001b[0m: none of the 5 overloaded methods succeeded. Full details:\n  RooDataSet* RooAbsPdf::generate(const RooArgSet& whatVars, const RooDataSet& prototype, int nEvents = 0, bool verbose = kFALSE, bool randProtoOrder = kFALSE, bool resampleProto = kFALSE) =>\n    could not convert argument 2\n  RooDataSet* RooAbsPdf::generate(const RooArgSet& whatVars, int nEvents, const RooCmdArg& arg1, const RooCmdArg& arg2 = RooCmdArg::none(), const RooCmdArg& arg3 = RooCmdArg::none(), const RooCmdArg& arg4 = RooCmdArg::none(), const RooCmdArg& arg5 = RooCmdArg::none()) =>\n    takes at least 3 arguments (2 given)\n  RooDataSet* RooAbsPdf::generate(const RooArgSet& whatVars, const RooCmdArg& arg1 = RooCmdArg::none(), const RooCmdArg& arg2 = RooCmdArg::none(), const RooCmdArg& arg3 = RooCmdArg::none(), const RooCmdArg& arg4 = RooCmdArg::none(), const RooCmdArg& arg5 = RooCmdArg::none(), const RooCmdArg& arg6 = RooCmdArg::none()) =>\n    could not convert argument 2\n  RooDataSet* RooAbsPdf::generate(RooAbsPdf::GenSpec&) =>\n    takes at most 1 arguments (2 given)\n  RooDataSet* RooAbsPdf::generate(const RooArgSet& whatVars, double nEvents = 0, bool verbose = kFALSE, bool autoBinned = kTRUE, const char* binnedTag = \"\", bool expectedData = kFALSE, bool extended = kFALSE) =>\n    problem in C++; program state has been reset"
     ]
    },
    {
     "name": "stdout",
     "output_type": "stream",
     "text": [
      ".[#0] ERROR:LinkStateMgmt -- RooAbsArg::redirectServers(bmass): ERROR, some proxies could not be adjusted\r\n",
      "[#0] ERROR:LinkStateMgmt -- RooAbsArg::redirectServers(bkgmass): ERROR, some proxies could not be adjusted\r\n",
      " MINUIT WARNING IN MIGrad    \r\n",
      " ============== VARIABLE2 IS AT ITS LOWER ALLOWED LIMIT.\r\n",
      "[#0] ERROR:Eval -- SPlot Error: covariance matrix is singular; I can't invert it!\r\n",
      "\r\n",
      "2x2 matrix is as follows\r\n",
      "\r\n",
      "     |      0    |      1    |\r\n",
      "-------------------------------\r\n",
      "   0 |   0.009059    4.97e-14 \r\n",
      "   1 |   4.97e-14   2.727e-25 \r\n",
      "\r\n",
      "[#0] ERROR:LinkStateMgmt -- RooAbsArg::redirectServers(bmass): ERROR, some proxies could not be adjusted\r\n",
      "[#0] ERROR:LinkStateMgmt -- RooAbsArg::redirectServers(bkgmass): ERROR, some proxies could not be adjusted\r\n",
      "[#0] ERROR:LinkStateMgmt -- RooAbsArg::redirectServers(bmass): ERROR, some proxies could not be adjusted\r\n",
      "[#0] ERROR:LinkStateMgmt -- RooAbsArg::redirectServers(bkgmass): ERROR, some proxies could not be adjusted\r\n",
      "[#0] ERROR:LinkStateMgmt -- RooAbsArg::redirectServers(bmass): ERROR, some proxies could not be adjusted\r\n",
      "[#0] ERROR:LinkStateMgmt -- RooAbsArg::redirectServers(bkgmass): ERROR, some proxies could not be adjusted\r\n",
      "[#0] ERROR:LinkStateMgmt -- RooAbsArg::redirectServers(bmass): ERROR, some proxies could not be adjusted\r\n",
      "[#0] ERROR:LinkStateMgmt -- RooAbsArg::redirectServers(bkgmass): ERROR, some proxies could not be adjusted\r\n",
      "[#0] ERROR:LinkStateMgmt -- RooAbsArg::redirectServers(bmass): ERROR, some proxies could not be adjusted\r\n",
      "[#0] ERROR:LinkStateMgmt -- RooAbsArg::redirectServers(bkgmass): ERROR, some proxies could not be adjusted\r\n",
      "[#0] ERROR:LinkStateMgmt -- RooAbsArg::redirectServers(bmass): ERROR, some proxies could not be adjusted\r\n",
      "[#0] ERROR:LinkStateMgmt -- RooAbsArg::redirectServers(bkgmass): ERROR, some proxies could not be adjusted\r\n",
      "[#0] ERROR:LinkStateMgmt -- RooAbsArg::redirectServers(bmass): ERROR, some proxies could not be adjusted\r\n",
      "[#0] ERROR:LinkStateMgmt -- RooAbsArg::redirectServers(bkgmass): ERROR, some proxies could not be adjusted\r\n",
      "[#0] ERROR:LinkStateMgmt -- RooAbsArg::redirectServers(bmass): ERROR, some proxies could not be adjusted\r\n",
      "[#0] ERROR:LinkStateMgmt -- RooAbsArg::redirectServers(bkgmass): ERROR, some proxies could not be adjusted\r\n",
      "[#0] ERROR:LinkStateMgmt -- RooAbsArg::redirectServers(bmass): ERROR, some proxies could not be adjusted\r\n",
      "[#0] ERROR:LinkStateMgmt -- RooAbsArg::redirectServers(bkgmass): ERROR, some proxies could not be adjusted\r\n",
      "[#0] ERROR:LinkStateMgmt -- RooAbsArg::redirectServers(bmass): ERROR, some proxies could not be adjusted\r\n",
      "[#0] ERROR:LinkStateMgmt -- RooAbsArg::redirectServers(bkgmass): ERROR, some proxies could not be adjusted\r\n",
      "[#0] ERROR:LinkStateMgmt -- RooAbsArg::redirectServers(bmass): ERROR, some proxies could not be adjusted\r\n",
      "[#0] ERROR:LinkStateMgmt -- RooAbsArg::redirectServers(bkgmass): ERROR, some proxies could not be adjusted\r\n",
      "[#0] ERROR:LinkStateMgmt -- RooAbsArg::redirectServers(bmass): ERROR, some proxies could not be adjusted\r\n",
      "[#0] ERROR:LinkStateMgmt -- RooAbsArg::redirectServers(bkgmass): ERROR, some proxies could not be adjusted\r\n",
      " MINUIT WARNING IN MIGrad    \r\n",
      " ============== VARIABLE2 IS AT ITS LOWER ALLOWED LIMIT.\r\n",
      "[#0] ERROR:Eval -- SPlot Error: covariance matrix is singular; I can't invert it!\r\n",
      "\r\n",
      "2x2 matrix is as follows\r\n",
      "\r\n",
      "     |      0    |      1    |\r\n",
      "-------------------------------\r\n",
      "   0 |          0           0 \r\n",
      "   1 |          0      0.0001 \r\n",
      "\r\n",
      " .[#0] ERROR:LinkStateMgmt -- RooAbsArg::recursiveCheckObservables(fullpdf): ERROR: one or more servers of node bmass no longer exists!\r\n",
      "--- RooAbsArg ---\r\n",
      "  Value State: clean\r\n",
      "  Shape State: clean\r\n",
      "  Attributes:  [ServerDied,ServerDied:mass(50d2700)] \r\n",
      "  Address: 0x4aca020\r\n",
      "  Clients: \r\n",
      "    (0x4bd5d10,V-) RooProdPdf::sigfitpdf \"signal fit pdf\"\r\n",
      "    (0x4d33f20,V-) RooProdPdf::sigpdf \"signal pdf\"\r\n",
      "    (0x4db3200,V-) RooExtendPdf::Emsigpdf \"extended signal mass pdf\"\r\n",
      "  Servers: \r\n",
      "    (0x49adfb0,V-) RooConstVar::5200 \"5200\"\r\n",
      "    (0x497cb60,V-) RooConstVar::20 \"20\"\r\n",
      "  Proxies: \r\n",
      "    x -> [#0] ERROR:LinkStateMgmt -- RooAbsArg::recursiveCheckO"
     ]
    },
    {
     "name": "stderr",
     "output_type": "stream",
     "text": [
      "   INFO: In dommap (/home/pseyfert/coding/ROOT6/roofit/roofitcore/src/BidirMMapPipe.cxx, line 422): anonymous mmapping works, excellent!\r\n",
      "Error in <TDecompLU::DecomposeLUCrout>: matrix is singular\r\n",
      "Error in <TDecompLU::DecomposeLUCrout>: matrix is singular\r\n",
      "\r\n",
      " *** Break *** segmentation violation\r\n",
      "\r\n",
      "\r\n",
      "\r\n",
      "===========================================================\r\n",
      "There was a crash.\r\n",
      "This is the entire stack trace of all threads:\r\n",
      "===========================================================\r\n",
      "\r\n",
      "Thread 8 (Thread 0x7f4e232f4700 (LWP 10563)):\r\n",
      "#0  0x00007f4e288ffe53 in epoll_wait () at ../sysdeps/unix/syscall-template.S:81\r\n",
      "#1  0x00007f4e25d6c01c in zmq::epoll_t::loop (this=0x207ee70) at bundled/zeromq/src/epoll.cpp:156\r\n",
      "#2  0x00007f4e25d5891a in thread_routine (arg_=0x207eef0) at bundled/zeromq/src/thread.cpp:96\r\n",
      "#3  0x00007f4e294ed0a4 in start_thread (arg=0x7f4e232f4700) at pthread_create.c:309\r\n",
      "#4  0x00007f4e288ff87d in clone () at ../sysdeps/unix/sysv/linux/x86_64/clone.S:111\r\n",
      "\r\n",
      "Thread 7 (Thread 0x7f4e22af3700 (LWP 10564)):\r\n",
      "#0  0x00007f4e288ffe53 in epoll_wait () at ../sysdeps/unix/syscall-template.S:81\r\n",
      "#1  0x00007f4e25d6c01c in zmq::epoll_t::loop (this=0x2053500) at bundled/zeromq/src/epoll.cpp:156\r\n",
      "#2  0x00007f4e25d5891a in thread_routine (arg_=0x2053580) at bundled/zeromq/src/thread.cpp:96\r\n",
      "#3  0x00007f4e294ed0a4 in start_thread (arg=0x7f4e22af3700) at pthread_create.c:309\r\n",
      "#4  0x00007f4e288ff87d in clone () at ../sysdeps/unix/sysv/linux/x86_64/clone.S:111\r\n",
      "\r\n",
      "Thread 6 (Thread 0x7f4e222f2700 (LWP 10565)):\r\n",
      "#0  0x00007f4e288f6d3d in poll () at ../sysdeps/unix/syscall-template.S:81\r\n",
      "#1  0x00007f4e25d5fe6b in poll (__timeout=<optimized out>, __nfds=2, __fds=0x7f4e222f14d0) at /usr/include/x86_64-linux-gnu/bits/poll2.h:46\r\n",
      "#2  zmq_poll (items_=0x7f4e222f1600, nitems_=<optimized out>, timeout_=-1) at bundled/zeromq/src/zmq.cpp:755\r\n",
      "#3  0x00007f4e25d628c3 in zmq::proxy (frontend_=0x7f4e14003460, backend_=0x7f4e14003460, capture_=capture_\r\n",
      "entry=0x0, control_=control_\r\n",
      "entry=0x0) at bundled/zeromq/src/proxy.cpp:140\r\n",
      "#4  0x00007f4e25d601a9 in zmq_proxy (frontend_=<optimized out>, backend_=<optimized out>, capture_=capture_\r\n",
      "entry=0x0) at bundled/zeromq/src/zmq.cpp:1040\r\n",
      "#5  0x00007f4e2435645c in __pyx_pf_3zmq_7backend_6cython_7_device_2proxy (__pyx_self=<optimized out>, __pyx_v_frontend=<optimized out>, __pyx_v_backend=<optimized out>, __pyx_v_capture=<optimized out>) at zmq/backend/cython/_device.c:1452\r\n",
      "#6  __pyx_pw_3zmq_7backend_6cython_7_device_3proxy (__pyx_self=<optimized out>, __pyx_args=<optimized out>, __pyx_kwds=<optimized out>) at zmq/backend/cython/_device.c:1339\r\n",
      "#7  0x00007f4e2435805b in __Pyx_PyObject_Call (kw=0x0, arg=0x7f4e234fa368, func=0x7f4e26450a28) at zmq/backend/cython/_device.c:2541\r\n",
      "#8  __pyx_pf_3zmq_7backend_6cython_7_device_device (__pyx_self=<optimized out>, __pyx_v_device_type=<optimized out>, __pyx_v_backend=0x7f4e23537188, __pyx_v_frontend=<optimized out>) at zmq/backend/cython/_device.c:1035\r\n",
      "#9  __pyx_pw_3zmq_7backend_6cython_7_device_1device (__pyx_self=<optimized out>, __pyx_args=<optimized out>, __pyx_kwds=<optimized out>) at zmq/backend/cython/_device.c:962\r\n",
      "#10 0x00000000004c9e05 in PyEval_EvalFrameEx ()\r\n",
      "#11 0x00000000004ca592 in PyEval_EvalFrameEx ()\r\n",
      "#12 0x00000000004ca592 in PyEval_EvalFrameEx ()\r\n",
      "#13 0x00000000004e5fe8 in ?? ()\r\n",
      "#14 0x00000000005045d8 in ?? ()\r\n",
      "#15 0x00000000004d1a1b in PyEval_CallObjectWithKeywords ()\r\n",
      "#16 0x00000000005bc102 in ?? ()\r\n",
      "#17 0x00007f4e294ed0a4 in start_thread (arg=0x7f4e222f2700) at pthread_create.c:309\r\n",
      "#18 0x00007f4e288ff87d in clone () at ../sysdeps/unix/sysv/linux/x86_64/clone.S:111\r\n",
      "\r\n",
      "Thread 5 (Thread 0x7f4e21af1700 (LWP 10566)):\r\n",
      "#0  0x00007f4e288ffe53 in epoll_wait () at ../sysdeps/unix/syscall-template.S:81\r\n",
      "#1  0x00007f4e25d6c01c in zmq::epoll_t::loop (this=0x7f4e14002dc0) at bundled/zeromq/src/epoll.cpp:156\r\n",
      "#2  0x00007f4e25d5891a in thread_routine (arg_=0x7f4e14002e40) at bundled/zeromq/src/thread.cpp:96\r\n",
      "#3  0x00007f4e294ed0a4 in start_thread (arg=0x7f4e21af1700) at pthread_create.c:309\r\n",
      "#4  0x00007f4e288ff87d in clone () at ../sysdeps/unix"
     ]
    }
   ],
   "source": [
    "from ROOT import TH1F, RooRandom\n",
    "pullhist = TH1F(\"pullhist\",\"pulls without BDT cut\",100,-10,10)\n",
    "pull2hist = TH1F(\"pull2hist\",\"pulls with BDT cut\",100,-10,10)\n",
    "pullbhist = TH1F(\"pullbhist\",\"pulls with best BDT cut\",100,-10,10)\n",
    "reshist = TH1F(\"reshist\",\"residuals without BDT cut\",300,-800,800)\n",
    "res2hist = TH1F(\"res2hist\",\"residuals with BDT cut\",300,-800,800)\n",
    "resbhist = TH1F(\"resbhist\",\"residuals with best BDT cut\",300,-800,800)\n",
    "\n",
    "timepullhist = TH1F(\"timepullhist\",\"time pulls without BDT cut\",100,-10,10)\n",
    "timepull2hist = TH1F(\"timepull2hist\",\"time pulls with BDT cut\",100,-10,10)\n",
    "timepullbhist = TH1F(\"timepullbhist\",\"time pulls with best BDT cut\",100,-10,10)\n",
    "timereshist = TH1F(\"timereshist\",\"time residuals without BDT cut\",300,-800,800)\n",
    "timeres2hist = TH1F(\"timeres2hist\",\"time residuals with BDT cut\",300,-800,800)\n",
    "timeresbhist = TH1F(\"timeresbhist\",\"time residuals with best BDT cut\",300,-800,800)\n",
    "\n",
    "NTOYS=10\n",
    "for i in xrange(NTOYS):\n",
    "    print \".\",\n",
    "    RooRandom.randomGenerator().SetSeed(i)\n",
    "    #res,pull,timestuff = runtoy()\n",
    "    res,pull,res2,pull2,resb,pullb,timestuff = runtoy()\n",
    "    pullhist.Fill(pull)\n",
    "    pull2hist.Fill(pull2)\n",
    "    pullbhist.Fill(pullb)\n",
    "    reshist.Fill(res)\n",
    "    res2hist.Fill(res2)\n",
    "    resbhist.Fill(resb)\n",
    "    timereshist.Fill(timestuff[0]-time_central)\n",
    "    timepullhist.Fill((timestuff[0]-time_central)/timestuff[1])\n",
    "    timeres2hist.Fill(timestuff[2]-time_central)\n",
    "    timepull2hist.Fill((timestuff[2]-time_central)/timestuff[3])\n",
    "    timeresbhist.Fill(timestuff[4]-time_central)\n",
    "    timepullbhist.Fill((timestuff[4]-time_central)/timestuff[5])\n",
    "cc = TCanvas()\n",
    "cc.Divide(3,2)\n",
    "cc.cd(1)\n",
    "pullhist.Draw()\n",
    "cc.cd(2)\n",
    "pull2hist.Draw()\n",
    "cc.cd(3)\n",
    "pullbhist.Draw()\n",
    "cc.cd(4)\n",
    "reshist.Draw()\n",
    "cc.cd(5)\n",
    "res2hist.Draw()\n",
    "cc.cd(6)\n",
    "resbhist.Draw()\n",
    "cc.Draw()\n",
    "ccc = TCanvas()\n",
    "ccc.Divide(3,2)\n",
    "ccc.cd(1)\n",
    "timepullhist.Draw()\n",
    "ccc.cd(2)\n",
    "timepull2hist.Draw()\n",
    "ccc.cd(3)\n",
    "timepullbhist.Draw()\n",
    "ccc.cd(4)\n",
    "timereshist.Draw()\n",
    "ccc.cd(5)\n",
    "timeres2hist.Draw()\n",
    "ccc.cd(6)\n",
    "timeresbhist.Draw()\n",
    "ccc.Draw()\n"
   ]
  },
  {
   "cell_type": "markdown",
   "metadata": {},
   "source": [
    "Let's have a look. The scenario \"no cut\" and the scenario with the fixed cut seem unbiased. But when always picking the best cut value, on seems to be off by 10 σ!"
   ]
  },
  {
   "cell_type": "code",
   "execution_count": null,
   "metadata": {
    "collapsed": false
   },
   "outputs": [],
   "source": [
    "print \"resolution without cut is        \", reshist.GetRMS()\n",
    "print \"bias without cut is              \", pullhist.GetMean(), u\"±\", pullhist.GetMeanError()\n",
    "print \"resolution with cut at 0.5 is    \", res2hist.GetRMS()\n",
    "print \"bias with cut at 0.5 is          \", pull2hist.GetMean(), u\"±\", pull2hist.GetMeanError()\n",
    "print \"resolution with optimised cut is \", resbhist.GetRMS()\n",
    "print \"bias with optimised cut is       \", pullbhist.GetMean(), u\"±\", pullbhist.GetMeanError()\n"
   ]
  },
  {
   "cell_type": "code",
   "execution_count": null,
   "metadata": {
    "collapsed": false
   },
   "outputs": [],
   "source": [
    "print \"time resolution without cut is        \", timereshist.GetRMS()\n",
    "print \"time bias without cut is              \", timepullhist.GetMean(), u\"±\", timepullhist.GetMeanError()\n",
    "print \"time resolution with cut at 0.5 is    \", timeres2hist.GetRMS()\n",
    "print \"time bias with cut at 0.5 is          \", timepull2hist.GetMean(), u\"±\", timepull2hist.GetMeanError()\n",
    "print \"time resolution with optimised cut is \", timeresbhist.GetRMS()\n",
    "print \"time bias with optimised cut is       \", timepullbhist.GetMean(), u\"±\", timepullbhist.GetMeanError()\n"
   ]
  },
  {
   "cell_type": "code",
   "execution_count": null,
   "metadata": {
    "collapsed": true
   },
   "outputs": [],
   "source": []
  }
 ],
 "metadata": {
  "kernelspec": {
   "display_name": "Python 2",
   "language": "python",
   "name": "python2"
  },
  "language_info": {
   "codemirror_mode": {
    "name": "ipython",
    "version": 2
   },
   "file_extension": ".py",
   "mimetype": "text/x-python",
   "name": "python",
   "nbconvert_exporter": "python",
   "pygments_lexer": "ipython2",
   "version": "2.7.9"
  }
 },
 "nbformat": 4,
 "nbformat_minor": 0
}
