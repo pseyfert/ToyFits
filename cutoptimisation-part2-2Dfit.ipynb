{
 "cells": [
  {
   "cell_type": "markdown",
   "metadata": {},
   "source": [
    "Before starting, let's import some RooFit stuff."
   ]
  },
  {
   "cell_type": "code",
   "execution_count": 1,
   "metadata": {
    "collapsed": false
   },
   "outputs": [
    {
     "data": {
      "application/javascript": [
       "IPython.CodeCell.config_defaults.highlight_modes['magic_text/x-c++src'] = {'reg':[/^%%cpp/]};"
      ]
     },
     "metadata": {},
     "output_type": "display_data"
    },
    {
     "name": "stdout",
     "output_type": "stream",
     "text": [
      "Welcome to JupyROOT 6.07/03\n"
     ]
    }
   ],
   "source": [
    "from ROOT import RooGaussian\n",
    "from ROOT import RooExponential\n",
    "from ROOT import RooProdPdf\n",
    "from ROOT import RooExtendPdf\n",
    "from ROOT import RooFit\n",
    "from ROOT import RooRealVar\n",
    "from ROOT import RooAddPdf\n",
    "from ROOT import RooArgList\n",
    "from ROOT import RooArgSet\n",
    "import ROOT\n",
    "\n",
    "def destruct_object(object_):\n",
    "    \"\"\"Destruct an object inheriting from TObject.\n",
    "\n",
    "    See http://root.cern.ch/download/doc/ROOTUsersGuideHTML/ch19.html#d5e27551\n",
    "    for more details\n",
    "\n",
    "    provided by @apuignav\n",
    "\n",
    "    :param object_: object to delete\n",
    "    :type object_: TObject\n",
    "\n",
    "    \"\"\"\n",
    "    if issubclass(type(object_), ROOT.TObject):\n",
    "        object_.IsA().Destructor(object_)"
   ]
  },
  {
   "cell_type": "markdown",
   "metadata": {},
   "source": [
    "Now the variables and models are defined. A Gaussian in invariant mass for the signal, an exponential for background; a BDT which is flat between 0 and 1 for the signal, and falls off exponentially for the background. In decay time, the signal falls of with the B lifetime, the background is short lived."
   ]
  },
  {
   "cell_type": "code",
   "execution_count": 2,
   "metadata": {
    "collapsed": false
   },
   "outputs": [],
   "source": [
    "bdt      = RooRealVar(\"BDT\",\"some awesome BDT\",0.,1.)\n",
    "mass     = RooRealVar(\"mass\",\"invariant mass\",5100.,5300,\"MeV/c^{2}\")\n",
    "time     = RooRealVar(\"time\",\"decay time\",0.,10,\"ps\")\n",
    "sy_start = 100.\n",
    "by_start = 900.\n",
    "sy_min = 0.\n",
    "by_min = 0.\n",
    "sy_max = 100000.\n",
    "by_max = 100000.\n",
    "\n",
    "time_central = -1./1.519\n",
    "time_min     = -1./0.200\n",
    "time_max     = -1./9.200\n",
    "\n",
    "sigyield = RooRealVar(\"sigyield\",\"signal yield\",sy_start,sy_min,sy_max)\n",
    "bkgyield = RooRealVar(\"bkgyield\",\"background yield\",by_start,by_min,by_max)\n",
    "\n",
    "blifetime= RooRealVar(\"blifetime\",\"B meson lifetime\",time_central,time_min,time_max)\n",
    "\n",
    "\n",
    "bmassPDF = RooGaussian(\"bmass\",\"B mass shape\",mass,RooFit.RooConst(5200.),RooFit.RooConst(20.))\n",
    "btimePDF = RooExponential(\"btime\",\"B time shape\",time,blifetime)\n",
    "bkgmPDF  = RooExponential(\"bkgmass\",\"bkg mass shape\",mass,RooFit.RooConst(-1./200.))\n",
    "bkgtPDF  = RooExponential(\"bbktime\",\"bkg time shape\",time,RooFit.RooConst(-1./0.200))\n",
    "bdtsPDF  = RooExponential(\"bdts\",\"sig bdt shape\",bdt,RooFit.RooConst(0.))\n",
    "bdtbPDF  = RooExponential(\"bdtb\",\"bkg bdt shape\",bdt,RooFit.RooConst(-3.))\n",
    "sigfitpdf= RooProdPdf(\"sigfitpdf\",\"signal fit pdf\",bmassPDF,btimePDF)\n",
    "bkgfitpdf= RooProdPdf(\"bkgfitpdf\",\"background fit pdf\",bkgmPDF,bkgtPDF)\n",
    "Esigfitpdf=RooExtendPdf(\"Esigfitpdf\",\"extended signal fit pdf\",sigfitpdf,sigyield)\n",
    "Ebkgfitpdf=RooExtendPdf(\"Ebkgfitpdf\",\"extended background fit pdf\",bkgfitpdf,bkgyield)\n",
    "fitPDF   = RooAddPdf(\"fitpdf\",\"mass and time pdf\",RooArgList(Esigfitpdf,Ebkgfitpdf))\n",
    "sigPDF   = RooProdPdf(\"sigpdf\",\"signal pdf\",RooArgList(bmassPDF,bdtsPDF,btimePDF))\n",
    "bkgPDF   = RooProdPdf(\"bkgpdf\",\"background pdf\",RooArgList(bkgmPDF,bdtbPDF,bkgtPDF))\n",
    "EsigPDF  = RooExtendPdf(\"Esigpdf\",\"extended signal pdf\",sigPDF,sigyield)\n",
    "EbkgPDF  = RooExtendPdf(\"Ebkgpdf\",\"extended background pdf\",bkgPDF,bkgyield)\n",
    "combPDF  = RooAddPdf(\"fullpdf\",\"full pdf\",RooArgList(EsigPDF,EbkgPDF))\n",
    "EmsigPDF = RooExtendPdf(\"Emsigpdf\",\"extended signal mass pdf\",bmassPDF,sigyield)\n",
    "EmbkgPDF = RooExtendPdf(\"Embkgpdf\",\"extended background mass pdf\",bkgmPDF,bkgyield)\n",
    "combmPDF = RooAddPdf(\"fullmasspdf\",\"full mass pdf\",RooArgList(EmsigPDF,EmbkgPDF))"
   ]
  },
  {
   "cell_type": "markdown",
   "metadata": {},
   "source": [
    "Let's plot the decay time distribution."
   ]
  },
  {
   "cell_type": "code",
   "execution_count": 3,
   "metadata": {
    "collapsed": false
   },
   "outputs": [
    {
     "name": "stdout",
     "output_type": "stream",
     "text": [
      "[#1] INFO:Plotting -- RooPlot::updateFitRangeNorm: New event count of 2129 will supercede previous event count of 10000 for normalization of PDF projections\r\n"
     ]
    },
    {
     "data": {
      "image/png": "[encoded data removed]",
      "text/plain": [
       "<IPython.core.display.Image object>"
      ]
     },
     "metadata": {},
     "output_type": "display_data"
    }
   ],
   "source": [
    "SIMEVTS = 10000#0\n",
    "NTOYS = 1000\n",
    "truesigyield = SIMEVTS*(sigyield.getVal()/(sigyield.getVal()+bkgyield.getVal()))\n",
    "def gentoy():\n",
    "    toydata = combPDF.generate(RooArgSet(bdt,mass,time),SIMEVTS)\n",
    "    return toydata\n",
    "toydata = gentoy()\n",
    "from ROOT import TCanvas, RooCmdArg\n",
    "from ROOT.RooFit import Cut\n",
    "c = TCanvas()\n",
    "frame = time.frame()\n",
    "toydata.plotOn(frame)\n",
    "smalldata = toydata.reduce(Cut(\"BDT>0.5\"))\n",
    "smalldata.plotOn(frame)#,Cut(\"BDT>0.5\"))\n",
    "frame.Draw()\n",
    "c.SetLogy()\n",
    "c.Draw()\n",
    "destruct_object(toydata)\n",
    "destruct_object(smalldata)"
   ]
  },
  {
   "cell_type": "markdown",
   "metadata": {},
   "source": [
    "For automisation, a few helper functions: resetting fit parameters, fitting the toy data (with possible cut on the BDT - the efficiency for the signal as function of cut value is perfectly known, as well as the true signal expected yield), determination of pull in yield and bias.\n",
    "\n",
    "For each toy, a scan over BDT cut values is performed (in steps of 0.1) only the invariant mass is fitted at each point to find the cut value with the smallest relative yield uncertainty. For that cut, a twodimensional fit in mass and decay time is performed."
   ]
  },
  {
   "cell_type": "code",
   "execution_count": 4,
   "metadata": {
    "collapsed": false
   },
   "outputs": [],
   "source": [
    "from ROOT import RooMsgService\n",
    "def reset():\n",
    "    bkgyield.setMin(by_min)\n",
    "    bkgyield.setMin(by_min)\n",
    "    bkgyield.setMax(by_max)\n",
    "    bkgyield.setMax(by_max)\n",
    "    bkgyield.setVal(by_start)\n",
    "    sigyield.setMin(sy_min)\n",
    "    sigyield.setMin(sy_min)\n",
    "    sigyield.setMax(sy_max)\n",
    "    sigyield.setMax(sy_max)\n",
    "    sigyield.setVal(sy_start)\n",
    "    blifetime.setVal(time_central)\n",
    "    blifetime.setMin(time_min)\n",
    "    blifetime.setMax(time_max)\n",
    "\n",
    "def fitwithcut(dataset,cutvalue):\n",
    "    reset()\n",
    "    smalldata = dataset.reduce(Cut(\"BDT>\"+str(cutvalue)))\n",
    "    fitres = fitPDF.fitTo(smalldata,RooFit.Save(False),RooFit.NumCPU(2),RooFit.PrintLevel(-1000))\n",
    "    #fitres.Print(\"V\")\n",
    "    destruct_object(smalldata)\n",
    "    val, err = sigyield.getVal(),sigyield.getError()\n",
    "    tval, terr = blifetime.getVal(),blifetime.getError()\n",
    "    sy = val/(1.-cutvalue)\n",
    "    se = err/(1.-cutvalue)\n",
    "    return sy,se,tval,terr\n",
    "\n",
    "def fitonlymasswithcut(dataset,cutvalue):\n",
    "    reset()\n",
    "    smalldata = dataset.reduce(Cut(\"BDT>\"+str(cutvalue)))\n",
    "    fitres = combmPDF.fitTo(smalldata,RooFit.Save(False),RooFit.NumCPU(2),RooFit.PrintLevel(-1000))\n",
    "    #fitres.Print(\"V\")\n",
    "    destruct_object(smalldata)\n",
    "    val, err = sigyield.getVal(),sigyield.getError()\n",
    "    sy = val/(1.-cutvalue)\n",
    "    se = err/(1.-cutvalue)\n",
    "    return sy,se\n",
    "                            \n",
    "\n",
    "def runtoy():\n",
    "    reset()\n",
    "    toydata = gentoy()\n",
    "    RooMsgService.instance().setGlobalKillBelow(RooFit.WARNING)\n",
    "    cutval = 0.0\n",
    "    sy,se,tc,te = fitwithcut(toydata,cutval)\n",
    "    \n",
    "    res = sy-truesigyield\n",
    "    pull = res/se\n",
    "    \n",
    "    cutval = 0.5\n",
    "    sy2,se2,tc2,te2 = fitwithcut(toydata,cutval)\n",
    "    res2 = sy2-truesigyield\n",
    "    pull2 = res2/se2\n",
    "    \n",
    "    tv = 0.0\n",
    "    by,be = fitonlymasswithcut(toydata,tv)\n",
    "    delme,delmetoo,timebest,timeerror = fitwithcut(toydata,tv)\n",
    "    for tv in [0.1,0.2,0.3,0.4,0.5,0.6,0.7,0.8,0.9]:\n",
    "        y,e = fitonlymasswithcut(toydata,tv)\n",
    "        if e/y <= be/by:\n",
    "            by,be = y,e\n",
    "            delme,delmetoo,timebest,timeerror = fitwithcut(toydata,tv)\n",
    "    resbest = by-truesigyield\n",
    "    pullbest = resbest/be\n",
    "    destruct_object(toydata)\n",
    "    \n",
    "    return res,pull,res2,pull2, resbest,pullbest,(tc,te,tc2,te2,timebest,timeerror)"
   ]
  },
  {
   "cell_type": "markdown",
   "metadata": {},
   "source": [
    "Now, run many toys, record the pulls and residuals for \"no cut\", \"cut at 0.5\", and \"best cut\"."
   ]
  },
  {
   "cell_type": "code",
   "execution_count": 5,
   "metadata": {
    "collapsed": false
   },
   "outputs": [
    {
     "name": "stdout",
     "output_type": "stream",
     "text": [
      ". . . . . . . . . . . . . . . . . . . . . . . . . . . . . . . . . . . . . . . . . . . . . . . . . . . . . . . . . . . . . . . . . . . . . . . . . . . . . . . . . . . . . . . . . . . . . . . . . . . . . . . . . . . . . . . . . . . . . . . . . . . . . . . . . . . . . . . . . . . . . . . . . . . . . . . . . . . . . . . . . . . . . . . . . . . . . . . . . . . . . . . . . . . . . . . . . . . . . . . . . . . . . . . . . . . . . . . . . . . . . . . . . . . . . . . . . . . . . . . . . . . . . . . . . . . . . . . . . . . . . . . . . . . . . . . . . . . . . . . . . . . . . . . . . . . . . . . . . . . . . . . . . . . . . . . . . . . . . . . . . . . . . . . . . . . . . . . . . . . . . . . . . . . . . . . . . . . . . . . . . . . . . . . . . . . . . . . . . . . . . . . . . . . . . . . . . . . . . . . . . . . . . . . . . . . . . . . . . . . . . . . . . . . . . . . . . . . . . . . . . . . . . . . . . . . . . . . . . . . . . . . . . . . . . . . . . . . . . . . . . . . . . . . . . . . . . . . . . . . . . . . . . . . . . . . . . . . . . . . . . . . . . . . . . . . . . . . . . . . . . . . . . . . . . . . . . . . . . . . . . . . . . . . . . . . . . . . . . . . . . . . . . . . . . . . . . . . . . . . . . . . . . . . . . . . . . . . . . . . . . . . . . . . . . . . . . . . . . . . . . . . . . . . . . . . . . . . . . . . . . . . . . . . . . . . . . . . . . . . . . . . . . . . . . . . . . . . . . . . . . . . . . . . . . . . . . . . . . . . . . . . . . . . . . . . . . . . . . . . . . . . . . . . . . . . . . . . . . . . . . . . . . . . . . . . . . . . . . . . . . . . . . . . . . . . . . . . . . . . . . . . . . . . . . . . . . . . . . . . . . . . . . . . . . . . . . . . . . . . . . . . . . . . . . . . . . . . . . . . . . . . . . . . . . . . . . . . . . . . . . . . . . . . . . . . . . . . . . . . . . . . . . . . . . . . . . . . . . . . . . . . . . . . . . . . . . . . . . . . . . . . . . . . . . . . . . . . . . . . . . . . . . . . . . . . . . . . . . . . . . . . . . . . . . . . . . . . . . . . .\r\n"
     ]
    },
    {
     "name": "stderr",
     "output_type": "stream",
     "text": [
      "   INFO: In dommap (/home/pseyfert/coding/ROOT6/roofit/roofitcore/src/BidirMMapPipe.cxx, line 422): anonymous mmapping works, excellent!\r\n"
     ]
    },
    {
     "data": {
      "image/png": "[encoded data removed]",
      "text/plain": [
       "<IPython.core.display.Image object>"
      ]
     },
     "metadata": {},
     "output_type": "display_data"
    },
    {
     "data": {
      "image/png": "[encoded data removed]",
      "text/plain": [
       "<IPython.core.display.Image object>"
      ]
     },
     "metadata": {},
     "output_type": "display_data"
    }
   ],
   "source": [
    "from ROOT import TH1F, RooRandom\n",
    "pullhist = TH1F(\"pullhist\",\"pulls without BDT cut\",100,-10,10)\n",
    "pull2hist = TH1F(\"pull2hist\",\"pulls with BDT cut\",100,-10,10)\n",
    "pullbhist = TH1F(\"pullbhist\",\"pulls with best BDT cut\",100,-10,10)\n",
    "reshist = TH1F(\"reshist\",\"residuals without BDT cut\",300,-800,800)\n",
    "res2hist = TH1F(\"res2hist\",\"residuals with BDT cut\",300,-800,800)\n",
    "resbhist = TH1F(\"resbhist\",\"residuals with best BDT cut\",300,-800,800)\n",
    "\n",
    "timepullhist = TH1F(\"timepullhist\",\"time pulls without BDT cut\",100,-10,10)\n",
    "timepull2hist = TH1F(\"timepull2hist\",\"time pulls with BDT cut\",100,-10,10)\n",
    "timepullbhist = TH1F(\"timepullbhist\",\"time pulls with best BDT cut\",100,-10,10)\n",
    "timereshist = TH1F(\"timereshist\",\"time residuals without BDT cut\",300,-800,800)\n",
    "timeres2hist = TH1F(\"timeres2hist\",\"time residuals with BDT cut\",300,-800,800)\n",
    "timeresbhist = TH1F(\"timeresbhist\",\"time residuals with best BDT cut\",300,-800,800)\n",
    "\n",
    "for i in xrange(NTOYS):\n",
    "    print \".\",\n",
    "    RooRandom.randomGenerator().SetSeed(i)\n",
    "    res,pull,res2,pull2,resb,pullb,timestuff = runtoy()\n",
    "    pullhist.Fill(pull)\n",
    "    pull2hist.Fill(pull2)\n",
    "    pullbhist.Fill(pullb)\n",
    "    reshist.Fill(res)\n",
    "    res2hist.Fill(res2)\n",
    "    resbhist.Fill(resb)\n",
    "    timereshist.Fill(timestuff[0]-time_central)\n",
    "    timepullhist.Fill((timestuff[0]-time_central)/timestuff[1])\n",
    "    timeres2hist.Fill(timestuff[2]-time_central)\n",
    "    timepull2hist.Fill((timestuff[2]-time_central)/timestuff[3])\n",
    "    timeresbhist.Fill(timestuff[4]-time_central)\n",
    "    timepullbhist.Fill((timestuff[4]-time_central)/timestuff[5])\n",
    "cc = TCanvas()\n",
    "cc.Divide(3,2)\n",
    "cc.cd(1)\n",
    "pullhist.Draw()\n",
    "cc.cd(2)\n",
    "pull2hist.Draw()\n",
    "cc.cd(3)\n",
    "pullbhist.Draw()\n",
    "cc.cd(4)\n",
    "reshist.Draw()\n",
    "cc.cd(5)\n",
    "res2hist.Draw()\n",
    "cc.cd(6)\n",
    "resbhist.Draw()\n",
    "cc.Draw()\n",
    "ccc = TCanvas()\n",
    "ccc.Divide(3,2)\n",
    "ccc.cd(1)\n",
    "timepullhist.Draw()\n",
    "ccc.cd(2)\n",
    "timepull2hist.Draw()\n",
    "ccc.cd(3)\n",
    "timepullbhist.Draw()\n",
    "ccc.cd(4)\n",
    "timereshist.Draw()\n",
    "ccc.cd(5)\n",
    "timeres2hist.Draw()\n",
    "ccc.cd(6)\n",
    "timeresbhist.Draw()\n",
    "ccc.Draw()\n"
   ]
  },
  {
   "cell_type": "markdown",
   "metadata": {},
   "source": [
    "Let's have a look. The scenario \"no cut\" and the scenario with the fixed cut seem unbiased. But when always picking the best cut value, the fitted yield is off by > 10 σ!\n"
   ]
  },
  {
   "cell_type": "code",
   "execution_count": 6,
   "metadata": {
    "collapsed": false
   },
   "outputs": [
    {
     "name": "stdout",
     "output_type": "stream",
     "text": [
      "resolution without cut is         44.5086863917\r\n",
      "bias without cut is               0.0153549298242 ± 0.0314177018551\r\n",
      "resolution with cut at 0.5 is     56.0620235308\r\n",
      "bias with cut at 0.5 is           -0.0384548145111 ± 0.0313383224177\r\n",
      "resolution with optimised cut is  70.8127279733\r\n",
      "bias with optimised cut is        0.473258363391 ± 0.0298688031699\r\n"
     ]
    }
   ],
   "source": [
    "print \"resolution without cut is        \", reshist.GetRMS()\n",
    "print \"bias without cut is              \", pullhist.GetMean(), u\"±\", pullhist.GetMeanError()\n",
    "print \"resolution with cut at 0.5 is    \", res2hist.GetRMS()\n",
    "print \"bias with cut at 0.5 is          \", pull2hist.GetMean(), u\"±\", pull2hist.GetMeanError()\n",
    "print \"resolution with optimised cut is \", resbhist.GetRMS()\n",
    "print \"bias with optimised cut is       \", pullbhist.GetMean(), u\"±\", pullbhist.GetMeanError()\n"
   ]
  },
  {
   "cell_type": "markdown",
   "metadata": {},
   "source": [
    "Then, when using the BDT cut for which the yield was with the smallest rel. uncertainty estimate, the lifetime is also biassed: by 4σ.\n"
   ]
  },
  {
   "cell_type": "code",
   "execution_count": 7,
   "metadata": {
    "collapsed": false
   },
   "outputs": [
    {
     "name": "stdout",
     "output_type": "stream",
     "text": [
      "time resolution without cut is         0.0263819566625\r\n",
      "time bias without cut is               0.00318576257973 ± 0.0308394194991\r\n",
      "time resolution with cut at 0.5 is     0.0350253188879\r\n",
      "time bias with cut at 0.5 is           -0.00505491782954 ± 0.0306964933932\r\n",
      "time resolution with optimised cut is  0.0303799491884\r\n",
      "time bias with optimised cut is        -0.140059379449 ± 0.0311498473083\r\n"
     ]
    }
   ],
   "source": [
    "print \"time resolution without cut is        \", timereshist.GetRMS()\n",
    "print \"time bias without cut is              \", timepullhist.GetMean(), u\"±\", timepullhist.GetMeanError()\n",
    "print \"time resolution with cut at 0.5 is    \", timeres2hist.GetRMS()\n",
    "print \"time bias with cut at 0.5 is          \", timepull2hist.GetMean(), u\"±\", timepull2hist.GetMeanError()\n",
    "print \"time resolution with optimised cut is \", timeresbhist.GetRMS()\n",
    "print \"time bias with optimised cut is       \", timepullbhist.GetMean(), u\"±\", timepullbhist.GetMeanError()\n"
   ]
  }
 ],
 "metadata": {
  "kernelspec": {
   "display_name": "Python 2",
   "language": "python",
   "name": "python2"
  },
  "language_info": {
   "codemirror_mode": {
    "name": "ipython",
    "version": 2
   },
   "file_extension": ".py",
   "mimetype": "text/x-python",
   "name": "python",
   "nbconvert_exporter": "python",
   "pygments_lexer": "ipython2",
   "version": "2.7.9"
  }
 },
 "nbformat": 4,
 "nbformat_minor": 0
}
